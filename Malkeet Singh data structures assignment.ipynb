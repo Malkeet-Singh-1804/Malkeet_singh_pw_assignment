{
 "cells": [
  {
   "cell_type": "code",
   "execution_count": 1,
   "id": "9203f896",
   "metadata": {},
   "outputs": [
    {
     "name": "stdout",
     "output_type": "stream",
     "text": [
      "teeklaM flesym olleH\n"
     ]
    }
   ],
   "source": [
    "# 1.Write a code to reverse a string\n",
    "str = \"Hello myself Malkeet\"\n",
    "print(str[::-1])"
   ]
  },
  {
   "cell_type": "code",
   "execution_count": 2,
   "id": "65eebbf9",
   "metadata": {},
   "outputs": [
    {
     "name": "stdout",
     "output_type": "stream",
     "text": [
      "total vowels in string: 6\n"
     ]
    }
   ],
   "source": [
    "# 2. Write a code to count the number of vowels in a string\n",
    "str =  \"Hello myself MalkeEt\"\n",
    "count = 0\n",
    "for i in str:\n",
    "    if (i == 'a') or (i == 'e')or (i == 'i')or (i == 'o')or (i == 'u')or (i == 'A')or (i == 'E')or (i == 'I')or (i == 'O')or (i == 'U'):\n",
    "        count+=1\n",
    "print(\"total vowels in string:\",count)"
   ]
  },
  {
   "cell_type": "code",
   "execution_count": 3,
   "id": "2f0ef5a3",
   "metadata": {},
   "outputs": [
    {
     "name": "stdout",
     "output_type": "stream",
     "text": [
      "Palindrome\n"
     ]
    }
   ],
   "source": [
    "# 3. Write a code to check if a given string is a palindrome or not\n",
    "str = \"Madam\"\n",
    "str = str.upper()# converting the string in upper case.\n",
    "if str==str[::-1]:\n",
    "    print(\"Palindrome\")\n",
    "else:\n",
    "    print(\"Not Palindrome\")"
   ]
  },
  {
   "cell_type": "code",
   "execution_count": 4,
   "id": "b21d28ea",
   "metadata": {},
   "outputs": [
    {
     "name": "stdout",
     "output_type": "stream",
     "text": [
      "strings are anagrams of each other\n"
     ]
    }
   ],
   "source": [
    "# 4. Write a code to check if two given strings are anagrams of each other\n",
    "str1=\"abcd\"\n",
    "str2=\"bcda\"\n",
    "if sorted(str1)==sorted(str2):\n",
    "    print('strings are anagrams of each other')\n",
    "else:\n",
    "    print('strings are not anagrams of each other')"
   ]
  },
  {
   "cell_type": "code",
   "execution_count": 5,
   "id": "eee848ee",
   "metadata": {},
   "outputs": [
    {
     "name": "stdout",
     "output_type": "stream",
     "text": [
      "Occurrences of 'is' in 'This is a test string. This string is for testing.': [2, 5, 25, 35]\n"
     ]
    }
   ],
   "source": [
    "# 5.Write a code to find all occurrences of a given substring within another string\n",
    "input_string = \"This is a test string. This string is for testing.\"\n",
    "substring = \"is\"\n",
    "occurrences = []\n",
    "\n",
    "start = 0\n",
    "while start < len(input_string):\n",
    "    start = input_string.find(substring, start)\n",
    "    if start == -1:\n",
    "        break\n",
    "    occurrences.append(start)\n",
    "    start += 1  \n",
    "\n",
    "print(f\"Occurrences of '{substring}' in '{input_string}': {occurrences}\")\n"
   ]
  },
  {
   "cell_type": "code",
   "execution_count": 4,
   "id": "26e91419",
   "metadata": {},
   "outputs": [
    {
     "name": "stdout",
     "output_type": "stream",
     "text": [
      "Input: Malkeet\n",
      "Compressed: Malke2t\n"
     ]
    }
   ],
   "source": [
    "# 6.Write a code to perform basic string compression using the counts of repeated characters\n",
    "\n",
    "s = \"Malkeet\"\n",
    "compressed = \"\"\n",
    "count = 1\n",
    "for i in range(1, len(s)):\n",
    "    if s[i] == s[i - 1]:\n",
    "        count += 1\n",
    "    else:\n",
    "        if count > 1:\n",
    "            compressed += s[i - 1] + str(count)\n",
    "        else:\n",
    "            compressed += s[i - 1]\n",
    "        count = 1\n",
    "\n",
    "if count > 1:\n",
    "    compressed += s[-1] + str(count)\n",
    "else:\n",
    "    compressed += s[-1]\n",
    "\n",
    "print(\"Input:\", s)\n",
    "print(\"Compressed:\", compressed)\n"
   ]
  },
  {
   "cell_type": "code",
   "execution_count": 15,
   "id": "25d73c66",
   "metadata": {},
   "outputs": [
    {
     "name": "stdout",
     "output_type": "stream",
     "text": [
      "The string does not have all unique characters.\n"
     ]
    }
   ],
   "source": [
    "#7.Write a code to determine if a string has all unique characters\n",
    "s = \"Malkeet\"\n",
    "\n",
    "# Assume the string has all unique characters\n",
    "all_unique = True\n",
    "i = 0\n",
    "while i < len(s):\n",
    "    j = i + 1\n",
    "    while j < len(s):\n",
    "        if s[i] == s[j]:\n",
    "            all_unique = False\n",
    "            break\n",
    "        j += 1\n",
    "    if not all_unique:\n",
    "        break\n",
    "    i += 1\n",
    "if all_unique:\n",
    "    print(\"The string has all unique characters.\")\n",
    "else:\n",
    "    print(\"The string does not have all unique characters.\")\n"
   ]
  },
  {
   "cell_type": "code",
   "execution_count": 17,
   "id": "b4e26032",
   "metadata": {},
   "outputs": [
    {
     "name": "stdout",
     "output_type": "stream",
     "text": [
      "MALKEET\n",
      "malkeet\n"
     ]
    }
   ],
   "source": [
    "#8.Write a code to convert a given string to uppercase or lowercase\n",
    "a = 'Malkeet'\n",
    "print(a.upper())\n",
    "print(a.lower())"
   ]
  },
  {
   "cell_type": "code",
   "execution_count": 1,
   "id": "aeeb3245",
   "metadata": {},
   "outputs": [
    {
     "name": "stdout",
     "output_type": "stream",
     "text": [
      "The number of words in the string is: 10\n"
     ]
    }
   ],
   "source": [
    "# 9. Write a code to count the number of words in a string\n",
    "input_string = \"hi my name is Malkeet singh ia m student at \"\n",
    "word_count = 0\n",
    "words = input_string.split()\n",
    "for word in words:\n",
    "    word_count += 1\n",
    "print(f\"The number of words in the string is: {word_count}\")\n"
   ]
  },
  {
   "cell_type": "code",
   "execution_count": 1,
   "id": "d305e899",
   "metadata": {},
   "outputs": [
    {
     "name": "stdout",
     "output_type": "stream",
     "text": [
      "Hello World\n"
     ]
    }
   ],
   "source": [
    "#10.Write a code to concatenate two strings without using the + operator\n",
    "str1 = \"Hello\"\n",
    "str2 = \"World\"\n",
    "\n",
    "result = f\"{str1} {str2}\"\n",
    "print(result)  "
   ]
  },
  {
   "cell_type": "code",
   "execution_count": 3,
   "id": "ecb713c4",
   "metadata": {},
   "outputs": [
    {
     "name": "stdout",
     "output_type": "stream",
     "text": [
      "[1, 2, 3, 4, 5, 7, 7, 8]\n"
     ]
    }
   ],
   "source": [
    "# 11.Write a code to remove all occurrences of a specific element from a list\n",
    "lst =[1,2,3,4,5,6,6,7,7,8,6,6]\n",
    "lst1=[]\n",
    "for i in lst:\n",
    "    if i!=6:\n",
    "        lst1.append(i)\n",
    "print(lst1)"
   ]
  },
  {
   "cell_type": "code",
   "execution_count": 18,
   "id": "918ae396",
   "metadata": {},
   "outputs": [
    {
     "name": "stdout",
     "output_type": "stream",
     "text": [
      "[1, 4, 8, 6]\n",
      "the second largest number 8\n"
     ]
    }
   ],
   "source": [
    "#12. Implement a code to find the second largest number in a given list of integers\n",
    "lst=[1,4,8,6,9]\n",
    "lst.remove(max(lst))\n",
    "print(lst)\n",
    "print(\"the second largest number\",max(lst))"
   ]
  },
  {
   "cell_type": "code",
   "execution_count": 19,
   "id": "6d65b576",
   "metadata": {},
   "outputs": [
    {
     "name": "stdout",
     "output_type": "stream",
     "text": [
      "{10: 2, 20: 2, 4: 3, 45: 1, 99: 2}\n"
     ]
    }
   ],
   "source": [
    "#13.Create a code to count the occurrences of each element in a list and return a dictionary with elements as keys and their counts as values\n",
    "# Example list\n",
    "nums = [10, 20, 4, 45, 99, 20, 4, 4, 99, 10]\n",
    "counts = {}\n",
    "for num in nums:\n",
    "    if num in counts:\n",
    "        counts[num] += 1\n",
    "    else:\n",
    "        counts[num] = 1\n",
    "\n",
    "print(counts)\n",
    "\n"
   ]
  },
  {
   "cell_type": "code",
   "execution_count": 20,
   "id": "5d16a694",
   "metadata": {},
   "outputs": [
    {
     "name": "stdout",
     "output_type": "stream",
     "text": [
      "[6, 5, 4, 3, 2, 1]\n"
     ]
    }
   ],
   "source": [
    "#14. Write a code to reverse a list in-place without using any built-in reverse functions\n",
    "lst=[1,2,3,4,5,6]\n",
    "print(lst[::-1])"
   ]
  },
  {
   "cell_type": "code",
   "execution_count": 1,
   "id": "9c87a30d",
   "metadata": {},
   "outputs": [
    {
     "name": "stdout",
     "output_type": "stream",
     "text": [
      "[1, 2, 3, 4, 5, 6]\n"
     ]
    }
   ],
   "source": [
    "# 15.Implement a code to find and remove duplicates from a list while preserving the original order of elements\n",
    "\n",
    "original_list = [1, 2, 2, 3, 4, 4, 5, 1, 6]\n",
    "\n",
    "seen = set()\n",
    "\n",
    "unique_list = []\n",
    "\n",
    "for item in original_list:\n",
    "    if item not in seen:\n",
    "        unique_list.append(item)\n",
    "        seen.add(item)\n",
    "\n",
    "print(unique_list)  "
   ]
  },
  {
   "cell_type": "code",
   "execution_count": 3,
   "id": "6cdaf6bb",
   "metadata": {},
   "outputs": [
    {
     "name": "stdout",
     "output_type": "stream",
     "text": [
      "True\n"
     ]
    }
   ],
   "source": [
    "#16.  Create a code to check if a given list is sorted (either in ascending or descending order) or not\n",
    "\n",
    "list1 = [1, 2,3,4,5]\n",
    "\n",
    "lst = list1 \n",
    "\n",
    "\n",
    "ascending = True\n",
    "descending = True\n",
    "\n",
    "\n",
    "for i in range(len(lst) - 1):\n",
    "    if lst[i] > lst[i + 1]:\n",
    "        ascending = False\n",
    "        break\n",
    "\n",
    "\n",
    "for i in range(len(lst) - 1):\n",
    "    if lst[i] < lst[i + 1]:\n",
    "        descending = False\n",
    "        break\n",
    "\n",
    "\n",
    "is_sorted = ascending or descending\n",
    "\n",
    "print(is_sorted) \n"
   ]
  },
  {
   "cell_type": "code",
   "execution_count": 4,
   "id": "3cc8aa5b",
   "metadata": {},
   "outputs": [
    {
     "name": "stdout",
     "output_type": "stream",
     "text": [
      "[1, 2, 3, 4, 5, 6, 7, 8]\n"
     ]
    }
   ],
   "source": [
    "# 17.Write a code to merge two sorted lists into a single sorted list\n",
    "\n",
    "list1 = [1, 3, 5, 7]\n",
    "list2 = [2, 4, 6, 8]\n",
    "\n",
    "merged_list = []\n",
    "\n",
    "i = 0\n",
    "j = 0\n",
    "\n",
    "while i < len(list1) and j < len(list2):\n",
    "    if list1[i] <= list2[j]:\n",
    "        merged_list.append(list1[i])\n",
    "        i += 1\n",
    "    else:\n",
    "        merged_list.append(list2[j])\n",
    "        j += 1\n",
    "\n",
    "while i < len(list1):\n",
    "    merged_list.append(list1[i])\n",
    "    i += 1\n",
    "\n",
    "while j < len(list2):\n",
    "    merged_list.append(list2[j])\n",
    "    j += 1\n",
    "\n",
    "print(merged_list)  "
   ]
  },
  {
   "cell_type": "code",
   "execution_count": 5,
   "id": "35be544c",
   "metadata": {},
   "outputs": [
    {
     "name": "stdout",
     "output_type": "stream",
     "text": [
      "[4, 5]\n"
     ]
    }
   ],
   "source": [
    "#18.  Implement a code to find the intersection of two given lists\n",
    "\n",
    "list1 = [1, 2, 3, 4, 5]\n",
    "list2 = [4, 5, 6, 7, 8]\n",
    "\n",
    "intersection = []\n",
    "\n",
    "for item in list1:\n",
    "    if item in list2:\n",
    "        intersection.append(item)\n",
    "print(intersection)  "
   ]
  },
  {
   "cell_type": "code",
   "execution_count": 6,
   "id": "ebec7c33",
   "metadata": {},
   "outputs": [
    {
     "name": "stdout",
     "output_type": "stream",
     "text": [
      "[1, 2, 3, 4, 5, 6, 7, 8]\n"
     ]
    }
   ],
   "source": [
    "# 19.Create a code to find the union of two lists without duplicates.\n",
    "\n",
    "list1 = [1, 2, 3, 4, 5]\n",
    "list2 = [4, 5, 6, 7, 8]\n",
    "\n",
    "union = []\n",
    "\n",
    "for item in list1:\n",
    "    if item not in union:\n",
    "        union.append(item)\n",
    "\n",
    "for item in list2:\n",
    "    if item not in union:\n",
    "        union.append(item)\n",
    "\n",
    "print(union)  "
   ]
  },
  {
   "cell_type": "code",
   "execution_count": 8,
   "id": "7c39bfd0",
   "metadata": {},
   "outputs": [
    {
     "name": "stdout",
     "output_type": "stream",
     "text": [
      "[4, 3, 1, 2, 8, 9, 10, 7, 6, 5]\n"
     ]
    }
   ],
   "source": [
    "#20. Write a code to shuffle a given list randomly without using any built-in shuffle function\n",
    "import random\n",
    "\n",
    "my_list = [1, 2, 3, 4, 5, 6, 7, 8, 9, 10]\n",
    "\n",
    "for i in range(len(my_list) - 1, 0, -1):\n",
    "    j = random.randint(0, i)  \n",
    "    my_list[i], my_list[j] = my_list[j], my_list[i]  \n",
    "\n",
    "print(my_list)\n"
   ]
  },
  {
   "cell_type": "code",
   "execution_count": 10,
   "id": "29d0e832",
   "metadata": {},
   "outputs": [
    {
     "name": "stdout",
     "output_type": "stream",
     "text": [
      "(4, 5)\n"
     ]
    }
   ],
   "source": [
    "#21.  Write a code that takes two tuples as input and returns a new tuple containing elements that are common to both input tuples.\n",
    "\n",
    "tuple1 = (1, 2, 3, 4, 5)\n",
    "tuple2 = (4, 5, 6, 7, 8)\n",
    "\n",
    "set1 = set(tuple1)\n",
    "set2 = set(tuple2)\n",
    "\n",
    "common_elements = set1.intersection(set2)\n",
    "\n",
    "common_elements_tuple = tuple(common_elements)\n",
    "\n",
    "print(common_elements_tuple) "
   ]
  },
  {
   "cell_type": "code",
   "execution_count": 11,
   "id": "5e8839dd",
   "metadata": {},
   "outputs": [
    {
     "name": "stdout",
     "output_type": "stream",
     "text": [
      "Enter the first set of integers separated by commas: 1,2,3,4,5,6\n",
      "Enter the second set of integers separated by commas: 5,4,3,8,3,1\n",
      "Intersection of the two sets: {1, 3, 4, 5}\n"
     ]
    }
   ],
   "source": [
    "# 22.Create a code that prompts the user to enter two sets of integers separated by commas. Then, print the intersection of these two sets. \n",
    "\n",
    "set1_input = input(\"Enter the first set of integers separated by commas: \")\n",
    "set2_input = input(\"Enter the second set of integers separated by commas: \")\n",
    "\n",
    "set1 = set(map(int, set1_input.split(',')))\n",
    "set2 = set(map(int, set2_input.split(',')))\n",
    "\n",
    "intersection = set1.intersection(set2)\n",
    "\n",
    "print(\"Intersection of the two sets:\", intersection)\n"
   ]
  },
  {
   "cell_type": "code",
   "execution_count": 13,
   "id": "be9b43d8",
   "metadata": {},
   "outputs": [
    {
     "name": "stdout",
     "output_type": "stream",
     "text": [
      "(1, 2, 3, 4, 5, 6)\n"
     ]
    }
   ],
   "source": [
    "#23.Write a code to concatenate two tuples. The function should take two tuples as input and return a new tuple containing elements from both input tuples.\n",
    "def concatenate_tuples(tuple1, tuple2):\n",
    "    concatenated_tuple = tuple1 + tuple2\n",
    "    return concatenated_tuple\n",
    "\n",
    "tuple1 = (1, 2, 3)\n",
    "tuple2 = (4, 5, 6)\n",
    "\n",
    "concatenated_tuple = concatenate_tuples(tuple1, tuple2)\n",
    "\n",
    "print(concatenated_tuple)\n"
   ]
  },
  {
   "cell_type": "code",
   "execution_count": 17,
   "id": "c37b2c63",
   "metadata": {},
   "outputs": [
    {
     "name": "stdout",
     "output_type": "stream",
     "text": [
      "Enter the elements of the first set separated by spaces: Today is very hot\n",
      "Enter the elements of the second set separated by spaces: summers are very hot\n",
      "Elements present in the first set but not in the second set: {'Today', 'is'}\n"
     ]
    }
   ],
   "source": [
    "#24. Develop a code that prompts the user to input two sets of strings. Then, print the elements that are present in the first set but not in the second set.\n",
    "\n",
    "set1_input = input(\"Enter the elements of the first set separated by spaces: \")\n",
    "set2_input = input(\"Enter the elements of the second set separated by spaces: \")\n",
    "\n",
    "set1 = set(set1_input.split())\n",
    "set2 = set(set2_input.split())\n",
    "\n",
    "result_set = set1 - set2\n",
    "\n",
    "print(\"Elements present in the first set but not in the second set:\", result_set)\n"
   ]
  },
  {
   "cell_type": "code",
   "execution_count": 19,
   "id": "8e26d702",
   "metadata": {},
   "outputs": [
    {
     "name": "stdout",
     "output_type": "stream",
     "text": [
      "(3, 4, 5, 6, 7)\n"
     ]
    }
   ],
   "source": [
    "#25. Create a code that takes a tuple and two integers as input. The function should return a new tuple containing elements from the original tuple within the specified range of indices\n",
    "\n",
    "def get_subtuple(original_tuple, start_index, end_index):\n",
    "    return original_tuple[start_index:end_index+1]\n",
    "\n",
    "original_tuple = (1, 2, 3, 4, 5, 6, 7, 8, 9, 10)\n",
    "\n",
    "start_index = 2\n",
    "end_index = 6\n",
    "\n",
    "result_tuple = get_subtuple(original_tuple, start_index, end_index)\n",
    "\n",
    "print(result_tuple)\n"
   ]
  },
  {
   "cell_type": "code",
   "execution_count": 21,
   "id": "0201041d",
   "metadata": {},
   "outputs": [
    {
     "name": "stdout",
     "output_type": "stream",
     "text": [
      "Enter the first set of characters: 12345\n",
      "Enter the second set of characters: 15478\n",
      "Union of the two sets: {'4', '2', '1', '3', '5', '8', '7'}\n"
     ]
    }
   ],
   "source": [
    "#26. Write a code that prompts the user to input two sets of characters. Then, print the union of these two sets.\n",
    "\n",
    "set1 = set(input(\"Enter the first set of characters: \"))\n",
    "set2 = set(input(\"Enter the second set of characters: \"))\n",
    "\n",
    "union_set = set1.union(set2)\n",
    "\n",
    "print(\"Union of the two sets:\", union_set)\n"
   ]
  },
  {
   "cell_type": "code",
   "execution_count": 22,
   "id": "adae507f",
   "metadata": {},
   "outputs": [
    {
     "name": "stdout",
     "output_type": "stream",
     "text": [
      "Maximum value: 10\n",
      "Minimum value: 2\n"
     ]
    }
   ],
   "source": [
    "#27.  Develop a code that takes a tuple of integers as input. The function should return the maximum and minimum values from the tuple using tuple unpacking\n",
    "\n",
    "def find_max_min(input_tuple):\n",
    "    max_value = max(input_tuple)\n",
    "    min_value = min(input_tuple)\n",
    "    return max_value, min_value\n",
    "\n",
    "input_tuple = (5, 10, 3, 8, 2)\n",
    "max_value, min_value = find_max_min(input_tuple)\n",
    "print(\"Maximum value:\", max_value)\n",
    "print(\"Minimum value:\", min_value)\n"
   ]
  },
  {
   "cell_type": "code",
   "execution_count": 23,
   "id": "e73bb925",
   "metadata": {},
   "outputs": [
    {
     "name": "stdout",
     "output_type": "stream",
     "text": [
      "Set 1: {1, 2, 3, 4, 5}\n",
      "Set 2: {4, 5, 6, 7, 8}\n",
      "Union: {1, 2, 3, 4, 5, 6, 7, 8}\n",
      "Intersection: {4, 5}\n",
      "Difference (Set1 - Set2): {1, 2, 3}\n",
      "Difference (Set2 - Set1): {8, 6, 7}\n"
     ]
    }
   ],
   "source": [
    "#28. Create a code that defines two sets of integers. Then, print the union, intersection, and difference of these two sets.\n",
    "\n",
    "set1 = {1, 2, 3, 4, 5}\n",
    "set2 = {4, 5, 6, 7, 8}\n",
    "\n",
    "print(\"Set 1:\", set1)\n",
    "print(\"Set 2:\", set2)\n",
    "\n",
    "union = set1.union(set2)\n",
    "print(\"Union:\", union)\n",
    "\n",
    "intersection = set1.intersection(set2)\n",
    "print(\"Intersection:\", intersection)\n",
    "\n",
    "difference1 = set1.difference(set2)\n",
    "difference2 = set2.difference(set1)\n",
    "print(\"Difference (Set1 - Set2):\", difference1)\n",
    "print(\"Difference (Set2 - Set1):\", difference2)\n"
   ]
  },
  {
   "cell_type": "code",
   "execution_count": 24,
   "id": "28843968",
   "metadata": {},
   "outputs": [
    {
     "name": "stdout",
     "output_type": "stream",
     "text": [
      "Number of occurrences of 2 in the tuple: 3\n"
     ]
    }
   ],
   "source": [
    "#29. Write a code that takes a tuple and an element as input. The function should return the count of occurrences of the given element in the tuple\n",
    "\n",
    "def count_occurrences(input_tuple, element):\n",
    "    return input_tuple.count(element)\n",
    "\n",
    "input_tuple = (1, 2, 3, 4, 2, 2, 5, 6)\n",
    "element_to_count = 2\n",
    "occurrences = count_occurrences(input_tuple, element_to_count)\n",
    "print(\"Number of occurrences of\", element_to_count, \"in the tuple:\", occurrences)\n"
   ]
  },
  {
   "cell_type": "code",
   "execution_count": 25,
   "id": "70ed987f",
   "metadata": {},
   "outputs": [
    {
     "name": "stdout",
     "output_type": "stream",
     "text": [
      "Enter the first set of strings (comma-separated): 1,2,3,4,5\n",
      "Enter the second set of strings (comma-separated): 8,7,5,4,3\n",
      "Symmetric Difference of the two sets: {'8', '7', '2', '1'}\n"
     ]
    }
   ],
   "source": [
    "#30. Develop a code that prompts the user to input two sets of strings. Then, print the symmetric difference of these two sets\n",
    "set1 = set(input(\"Enter the first set of strings (comma-separated): \").split(','))\n",
    "set2 = set(input(\"Enter the second set of strings (comma-separated): \").split(','))\n",
    "\n",
    "symmetric_difference = set1.symmetric_difference(set2)\n",
    "\n",
    "print(\"Symmetric Difference of the two sets:\", symmetric_difference)\n"
   ]
  },
  {
   "cell_type": "code",
   "execution_count": 28,
   "id": "3f4638ca",
   "metadata": {},
   "outputs": [
    {
     "name": "stdout",
     "output_type": "stream",
     "text": [
      "Enter a list of words (space-separated): w n w f f g g t t t h h h h h \n",
      "Word Frequency Dictionary:\n",
      "{'w': 2, 'n': 1, 'f': 2, 'g': 2, 't': 3, 'h': 5}\n"
     ]
    }
   ],
   "source": [
    "# 31. Write a code that takes a list of words as input and returns a dictionary where the keys are unique words and the values are the frequencies of those words in the input list.\n",
    "def word_frequency(input_list):\n",
    "    word_freq = {}  \n",
    "    for word in input_list:\n",
    "        word_freq[word] = word_freq.get(word, 0) + 1\n",
    "    return word_freq\n",
    "\n",
    "input_list = input(\"Enter a list of words (space-separated): \").split()\n",
    "word_freq_dict = word_frequency(input_list)\n",
    "print(\"Word Frequency Dictionary:\")\n",
    "print(word_freq_dict)\n"
   ]
  },
  {
   "cell_type": "code",
   "execution_count": 29,
   "id": "f757b2d1",
   "metadata": {},
   "outputs": [
    {
     "name": "stdout",
     "output_type": "stream",
     "text": [
      "Merged Dictionary:\n",
      "{'a': 10, 'b': 25, 'c': 45, 'd': 25}\n"
     ]
    }
   ],
   "source": [
    "#32. Write a code that takes two dictionaries as input and merges them into a single dictionary. If there are common keys, the values should be added together\n",
    "\n",
    "def merge_dicts(dict1, dict2):\n",
    "    merged_dict = dict1.copy()  \n",
    "    for key, value in dict2.items():\n",
    "        if key in merged_dict:\n",
    "            merged_dict[key] += value  \n",
    "        else:\n",
    "            merged_dict[key] = value  \n",
    "    return merged_dict\n",
    "\n",
    "dict1 = {'a': 10, 'b': 20, 'c': 30}\n",
    "dict2 = {'b': 5, 'c': 15, 'd': 25}\n",
    "merged_dict = merge_dicts(dict1, dict2)\n",
    "print(\"Merged Dictionary:\")\n",
    "print(merged_dict)\n"
   ]
  },
  {
   "cell_type": "code",
   "execution_count": 30,
   "id": "3a15f3c4",
   "metadata": {},
   "outputs": [
    {
     "name": "stdout",
     "output_type": "stream",
     "text": [
      "Value corresponding to keys ['a', 'b', 'c'] : 5\n"
     ]
    }
   ],
   "source": [
    "#33.  Write a code to access a value in a nested dictionary. The function should take the dictionary and a list of \n",
    "# keys as input, and return the corresponding value. If any of the keys do not exist in the dictionary, the \n",
    "# function should return None\n",
    "\n",
    "def access_nested_dict(nested_dict, keys):\n",
    "    current_dict = nested_dict\n",
    "    for key in keys:\n",
    "        if key in current_dict:\n",
    "            current_dict = current_dict[key]\n",
    "        else:\n",
    "            return None\n",
    "    return current_dict\n",
    "\n",
    "nested_dict = {'a': {'b': {'c': 5}}}\n",
    "keys_to_access = ['a', 'b', 'c']\n",
    "value = access_nested_dict(nested_dict, keys_to_access)\n",
    "print(\"Value corresponding to keys\", keys_to_access, \":\", value)\n"
   ]
  },
  {
   "cell_type": "code",
   "execution_count": 31,
   "id": "0841d868",
   "metadata": {},
   "outputs": [
    {
     "name": "stdout",
     "output_type": "stream",
     "text": [
      "Sorted Dictionary (Ascending Order): {'b': 2, 'd': 3, 'a': 5, 'c': 8}\n"
     ]
    }
   ],
   "source": [
    "#34. Write a code that takes a dictionary as input and returns a sorted version of it based on the values. You \n",
    "#can choose whether to sort in ascending or descending order\n",
    "def sort_dict_by_values(dictionary, reverse=False):\n",
    "    sorted_dict = dict(sorted(dictionary.items(), key=lambda x: x[1], reverse=reverse))\n",
    "    return sorted_dict\n",
    "\n",
    "input_dict = {'a': 5, 'b': 2, 'c': 8, 'd': 3}\n",
    "sorted_dict = sort_dict_by_values(input_dict)\n",
    "print(\"Sorted Dictionary (Ascending Order):\", sorted_dict)\n"
   ]
  },
  {
   "cell_type": "code",
   "execution_count": 32,
   "id": "42eb8bd4",
   "metadata": {},
   "outputs": [
    {
     "name": "stdout",
     "output_type": "stream",
     "text": [
      "Inverted Dictionary:\n",
      "{1: ['a', 'c'], 2: ['b', 'd']}\n"
     ]
    }
   ],
   "source": [
    "#35.  Write a code that inverts a dictionary, swapping keys and values. Ensure that the inverted dictionary \n",
    "# correctly handles cases where multiple keys have the same value by storing the keys as a list in the \n",
    "# inverted dictionary.\n",
    "def invert_dict(dictionary):\n",
    "    inverted_dict = {}\n",
    "    for key, value in dictionary.items():\n",
    "        if value in inverted_dict:\n",
    "            inverted_dict[value].append(key)\n",
    "        else:\n",
    "            inverted_dict[value] = [key]\n",
    "    return inverted_dict\n",
    "\n",
    "input_dict = {'a': 1, 'b': 2, 'c': 1, 'd': 2}\n",
    "inverted_dict = invert_dict(input_dict)\n",
    "print(\"Inverted Dictionary:\")\n",
    "print(inverted_dict)\n"
   ]
  },
  {
   "cell_type": "code",
   "execution_count": null,
   "id": "08f47d40",
   "metadata": {},
   "outputs": [],
   "source": []
  }
 ],
 "metadata": {
  "kernelspec": {
   "display_name": "Python 3 (ipykernel)",
   "language": "python",
   "name": "python3"
  },
  "language_info": {
   "codemirror_mode": {
    "name": "ipython",
    "version": 3
   },
   "file_extension": ".py",
   "mimetype": "text/x-python",
   "name": "python",
   "nbconvert_exporter": "python",
   "pygments_lexer": "ipython3",
   "version": "3.11.3"
  }
 },
 "nbformat": 4,
 "nbformat_minor": 5
}
