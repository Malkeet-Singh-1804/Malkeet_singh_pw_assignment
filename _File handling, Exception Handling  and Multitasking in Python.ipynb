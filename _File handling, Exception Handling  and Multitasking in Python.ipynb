{
 "cells": [
  {
   "cell_type": "code",
   "execution_count": 2,
   "id": "58acc570",
   "metadata": {},
   "outputs": [
    {
     "name": "stdout",
     "output_type": "stream",
     "text": [
      "Hello My Name is Malkeet Singh\n"
     ]
    }
   ],
   "source": [
    "#1. Write a code to read the contents of a file in Python\n",
    "# Open the file in read mode\n",
    "with open('example.txt', 'r') as file:\n",
    "    # Read the entire content of the file\n",
    "    contents = file.read()\n",
    "\n",
    "# Print the contents of the file\n",
    "print(contents)\n"
   ]
  },
  {
   "cell_type": "code",
   "execution_count": 3,
   "id": "7f663f47",
   "metadata": {},
   "outputs": [],
   "source": [
    "#2. Write a code to write to a file in Python\n",
    "# Open the file in write mode\n",
    "with open('output.txt', 'w') as file:\n",
    "    # Write content to the file\n",
    "    file.write(\"Hello, this is a new file!\\n\")\n",
    "    file.write(\"This is the second line.\\n\")\n",
    "\n",
    "# The file is automatically closed after the with block ends\n"
   ]
  },
  {
   "cell_type": "code",
   "execution_count": 4,
   "id": "dc01d05f",
   "metadata": {},
   "outputs": [],
   "source": [
    "#3.Write a code to append to a file in Python\n",
    "# Open the file in append mode\n",
    "with open('example.txt', 'a') as file:\n",
    "    # Append content to the file\n",
    "    file.write(\"This is a new line being appended to the file.\\n\")\n",
    "    file.write(\"Here is another line to add.\\n\")\n",
    "\n",
    "# The file is automatically closed after the with block ends\n"
   ]
  },
  {
   "cell_type": "code",
   "execution_count": 1,
   "id": "881a6059",
   "metadata": {},
   "outputs": [
    {
     "name": "stdout",
     "output_type": "stream",
     "text": [
      "b'always happy\\r\\n'\n"
     ]
    }
   ],
   "source": [
    "#4.Write a code to read a binary file in Python\n",
    "# Open the file in binary read mode\n",
    "with open('example.bin', 'rb') as file:\n",
    "    # Read the entire content of the file\n",
    "    binary_data = file.read()\n",
    "\n",
    "# Print the binary data\n",
    "print(binary_data)\n"
   ]
  },
  {
   "cell_type": "code",
   "execution_count": 2,
   "id": "d2385c29",
   "metadata": {},
   "outputs": [],
   "source": [
    "#5.What happens if we don't use `with` keyword with `open` in python\n",
    "# . Resource Leaks:\n",
    "# Description: Each time you open a file, a file descriptor is used. If the file is not closed, the file descriptor is not released back to the operating system.\n",
    "# Impact: Over time, especially in long-running programs or those that open many files, this can lead to resource exhaustion where the operating system runs out of available file descriptors, causing the program or even the entire system to run into errors.\n",
    "# 2. Data Loss or Corruption:\n",
    "# Description: When writing to a file, data is often buffered. If you don't close the file, the buffer might not be flushed (i.e., written) to disk properly.\n",
    "# Impact: This can result in incomplete data being written, leading to data loss or corruption.\n",
    "# 3. Locked Files:\n",
    "# Description: In some operating systems, a file that is not properly closed may remain locked, preventing other programs or processes from accessing it.\n",
    "# Impact: This can lead to errors when other processes attempt to read from or write to the same file.\n",
    "# 4. Unexpected Behavior:\n",
    "# Description: Files left open might not behave as expected, particularly in environments with limited file handles, leading to unpredictable behavior and bugs.\n",
    "# Impact: This can make debugging difficult because the root cause might not be apparent immediately.\n",
    "# 5. Finalization Timing:\n",
    "# Description: If a file object is not closed, Python will eventually garbage collect it and close the file. However, the timing of garbage collection is not guaranteed.\n",
    "# Impact: This means that the file might remain open longer than necessary, which can be particularly problematic in programs that open many files in a loop."
   ]
  },
  {
   "cell_type": "code",
   "execution_count": 3,
   "id": "72c46a7b",
   "metadata": {},
   "outputs": [],
   "source": [
    "#6. Explain the concept of buffering in file handling and how it helps in improving read and write operations\n"
   ]
  },
  {
   "cell_type": "markdown",
   "id": "859d5239",
   "metadata": {},
   "source": [
    "Buffering is a fundamental concept in file handling that involves temporarily storing data in a buffer (a block of memory) before it is read from or written to a file. Buffering plays a crucial role in optimizing the performance of file I/O operations by reducing the number of direct interactions with the underlying file system or hardware.\n",
    "\n",
    "What is Buffering?\n",
    "Definition: Buffering is the process of using a temporary memory area (buffer) to hold data being transferred between two places, such as between a file and a program. The buffer serves as a staging area for data before it is moved to its final destination.\n",
    "Types of Buffering:\n",
    "Line Buffering: Data is buffered until a newline character is encountered.\n",
    "Full Buffering: Data is buffered until the buffer is full, and then it is written to the file or read from the file.\n",
    "Unbuffered: Data is not buffered, meaning read/write operations occur directly, without intermediate storage.\n",
    "How Buffering Works\n",
    "Writing to a File:\n",
    "\n",
    "When you write data to a file, it is first stored in the buffer. Once the buffer is full or a flush is triggered, the data is then written to the disk in a single operation.\n",
    "Example: If you write several small pieces of data to a file, those pieces are first collected in the buffer. When the buffer reaches its capacity or when a specific condition (like a flush) is met, all the collected data is written to the disk at once.\n",
    "Reading from a File:\n",
    "\n",
    "When reading, the buffer is filled with a block of data from the file. Your program then reads from this buffer. This means that rather than reading each byte directly from the disk, which is slow, you read from memory.\n",
    "Example: If a file is read in small chunks, instead of reading each chunk from the disk separately (which would involve multiple time-consuming I/O operations), a larger block of data is read into the buffer in one operation. Then, the data is served from the buffer as needed.\n",
    "Benefits of Buffering\n",
    "Improved Performance:\n",
    "\n",
    "Reduced I/O Operations: Buffering reduces the number of I/O operations. Instead of writing each small piece of data immediately to disk (which is slow), data is written in larger chunks. This reduces the overhead associated with each write operation.\n",
    "Faster Read/Write Speed: Reading data from a buffer is faster than reading directly from disk because memory access times are much lower than disk access times. Buffering allows you to fetch larger chunks of data from the disk into memory at once.\n",
    "Efficient Use of System Resources:\n",
    "\n",
    "Minimized Disk Access: By grouping multiple read or write operations into a single operation, buffering minimizes the time the disk spends in I/O operations, which can be significant in systems with high I/O demand.\n",
    "Less Processor Overhead: Reducing the number of I/O operations decreases the CPU overhead associated with managing each read or write call.\n",
    "Smoother Program Execution:\n",
    "\n",
    "Buffering allows the program to proceed without waiting for each small write to be committed to the disk. The write can happen in the background while the program continues to execute."
   ]
  },
  {
   "cell_type": "code",
   "execution_count": 4,
   "id": "920cbaf3",
   "metadata": {},
   "outputs": [],
   "source": [
    "#7. Describe the steps involved in implementing buffered file handling in a programming language of your choice\n"
   ]
  },
  {
   "cell_type": "markdown",
   "id": "56c7c639",
   "metadata": {},
   "source": [
    "Open a File with Buffering Options: Use a function to open a file, specifying the mode (such as read or write) and setting a buffering parameter to control how much data is buffered.\n",
    "\n",
    "Perform Write Operations with Buffering: When writing data to a file, the data is first stored in a buffer. Once the buffer is full, the data is automatically written to the file. You can also manually flush the buffer to write the data immediately.\n",
    "\n",
    "Perform Read Operations with Buffering: When reading from a file, data is first read into a buffer. Subsequent reads access data from the buffer until it is empty, at which point the buffer is refilled from the file.\n",
    "\n",
    "Using a Context Manager for Buffered File Handling: It's a good practice to use a context manager, such as the with statement, to handle file operations. This ensures that the file is properly closed and that any buffered data is flushed when the file operations are complete, even if an error occurs.\n",
    "\n",
    "Automatic Buffer Flushing on File Close: When a file is closed, either explicitly or implicitly through a context manager, the buffer is automatically flushed, and any remaining data is written to the file. This ensures that all data is properly saved.\n",
    "\n",
    "Setting Buffer Size Based on Use Case: Choose an appropriate buffer size to balance memory usage and performance. A larger buffer reduces the frequency of disk I/O operations but uses more memory, while a smaller buffer uses less memory but may lead to more frequent I/O operations. The choice depends on the specific needs of the application."
   ]
  },
  {
   "cell_type": "code",
   "execution_count": null,
   "id": "c6a787b5",
   "metadata": {},
   "outputs": [],
   "source": [
    "#8.Write a Python function to read a text file using buffered reading and return its contents\n",
    "def read_file_buffered(file_path, buffer_size=1024):\n",
    "    \n",
    "    contents = []\n",
    "\n",
    "    with open(file_path, 'r', buffering=buffer_size) as file:\n",
    "        while True:\n",
    "            chunk = file.read(buffer_size)\n",
    "            if not chunk:\n",
    "                break\n",
    "            contents.append(chunk)\n",
    "\n",
    "    return ''.join(contents)\n",
    "\n",
    "# Example usage:\n",
    "file_contents = read_file_buffered('example.txt')\n",
    "print(file_contents)\n"
   ]
  },
  {
   "cell_type": "code",
   "execution_count": 5,
   "id": "7f22381b",
   "metadata": {},
   "outputs": [],
   "source": [
    "#9. What are the advantages of using buffered reading over direct file reading in Python\n"
   ]
  },
  {
   "cell_type": "markdown",
   "id": "47ed1fce",
   "metadata": {},
   "source": [
    "1. Improved Performance:\n",
    "Reduced I/O Operations: Buffered reading reduces the number of read operations required by reading larger chunks of data at once. This minimizes the time spent on disk I/O operations, which are relatively slow compared to reading from memory.\n",
    "Faster Execution: Reading from a buffer (memory) is much faster than reading directly from the disk. By storing data temporarily in memory, the program can process data more quickly, resulting in faster execution times.\n",
    "2. Efficient Use of System Resources:\n",
    "Less CPU Overhead: Directly reading small amounts of data from a file multiple times increases CPU overhead due to frequent system calls. Buffered reading reduces the frequency of these calls, leading to more efficient CPU utilization.\n",
    "Reduced Disk Wear and Tear: By minimizing the number of direct reads from the disk, buffered reading can reduce disk wear and tear, which is beneficial for the longevity of physical storage devices.\n",
    "3. Memory Management:\n",
    "Controlled Memory Usage: With buffered reading, you can control the buffer size, thus managing how much memory is used for reading data. This prevents excessive memory consumption, which can be an issue when reading large files directly into memory.\n",
    "Scalability: Buffered reading is scalable to handle large files. Instead of trying to load an entire file into memory, which might not be feasible for very large files, buffering allows the program to handle large files efficiently in manageable chunks.\n",
    "4. Smoother Program Execution:\n",
    "Reduced Latency: Buffered reading can provide a smoother experience by reducing the latency associated with direct disk access. Data is read in larger blocks and served from memory, reducing wait times and improving responsiveness.\n",
    "Better User Experience: In applications that interact with users (e.g., reading logs, streaming data), buffering can help provide a continuous and smooth data flow, improving the overall user experience.\n",
    "5. Improved Code Quality and Maintenance:\n",
    "Simplicity: Buffered reading often results in cleaner, more readable code by abstracting the details of how data is read from the file system. This makes the code easier to understand and maintain.\n",
    "Error Handling: Using buffered reading with constructs like the with statement automatically handles opening, reading, and closing files, reducing the risk of errors related to file handling, such as forgetting to close a file.\n",
    "6. Platform Independence:\n",
    "Consistency Across Platforms: Buffered reading can provide consistent behavior across different operating systems. Python's built-in buffering handles various platform-specific optimizations, making the code more portable and reliable.\n",
    "7. Flexibility:\n",
    "Adjustable Buffer Size: You can adjust the buffer size based on specific needs. For applications that require high performance, a larger buffer size might be used. For low-memory environments, a smaller buffer size might be chosen to conserve resources."
   ]
  },
  {
   "cell_type": "code",
   "execution_count": null,
   "id": "1bce0765",
   "metadata": {},
   "outputs": [],
   "source": [
    "#10. Write a Python code snippet to append content to a file using buffered writing\n",
    "\n",
    "def append_to_file(file_path, content, buffer_size=1024):\n",
    "    \n",
    "    with open(file_path, 'a', buffering=buffer_size) as file:\n",
    "        file.write(content)\n",
    "\n",
    "# Example usage:\n",
    "append_to_file('example.txt', 'This is the appended content.\\n')\n"
   ]
  },
  {
   "cell_type": "code",
   "execution_count": null,
   "id": "6310a3a3",
   "metadata": {},
   "outputs": [],
   "source": [
    "#11. Write a Python function that demonstrates the use of close() method on a file\n",
    "def write_and_close_file(file_path, content):\n",
    "    # Open the file for writing\n",
    "    file = open(file_path, 'w')\n",
    "\n",
    "    try:\n",
    "        # Write content to the file\n",
    "        file.write(content)\n",
    "        print(f\"Content written to {file_path}\")\n",
    "    except Exception as e:\n",
    "        print(f\"An error occurred: {e}\")\n",
    "    finally:\n",
    "        # Explicitly close the file\n",
    "        file.close()\n",
    "        print(f\"File {file_path} is now closed.\")\n",
    "\n",
    "# Example usage:\n",
    "write_and_close_file('example.txt', 'Hello, this is a test message!')\n"
   ]
  },
  {
   "cell_type": "code",
   "execution_count": null,
   "id": "34d5bb37",
   "metadata": {},
   "outputs": [],
   "source": [
    "#12 Create a Python function to showcase the detach() method on a file object\n",
    "def demonstrate_detach(file_path):\n",
    "    # Open the file in binary mode\n",
    "    with open(file_path, 'wb') as binary_file:\n",
    "        # Write some binary data to the file\n",
    "        binary_file.write(b'This is some binary data.\\n')\n",
    "\n",
    "    # Re-open the file in text mode\n",
    "    with open(file_path, 'r') as text_file:\n",
    "        # Detach the binary buffer from the text stream\n",
    "        binary_buffer = text_file.detach()\n",
    "\n",
    "        # Now we can use the binary buffer for binary operations\n",
    "        print(\"Binary buffer after detach:\")\n",
    "        print(binary_buffer.read())  # Read the raw binary data\n",
    "\n",
    "        # Close the binary buffer\n",
    "        binary_buffer.close()\n",
    "\n",
    "# Example usage:\n",
    "demonstrate_detach('example.txt')\n"
   ]
  },
  {
   "cell_type": "code",
   "execution_count": null,
   "id": "616aca77",
   "metadata": {},
   "outputs": [],
   "source": [
    "#13. Write a Python function to demonstrate the use of the seek() method to change the file position\n",
    "def demonstrate_seek(file_path):\n",
    "    # Write some example content to the file\n",
    "    with open(file_path, 'w') as file:\n",
    "        file.write(\"Hello, world!\\nThis is a test file.\\nIt has multiple lines of text.\\n\")\n",
    "\n",
    "    # Open the file for reading\n",
    "    with open(file_path, 'r') as file:\n",
    "        # Move the file pointer to the beginning (default)\n",
    "        file.seek(0)\n",
    "        print(\"Reading from the beginning of the file:\")\n",
    "        print(file.read())  # Read all content from the beginning\n",
    "\n",
    "        # Move the file pointer to the 7th byte from the beginning\n",
    "        file.seek(7)\n",
    "        print(\"\\nReading from the 7th byte:\")\n",
    "        print(file.read())  # Read content from the 7th byte\n",
    "\n",
    "        # Move the file pointer to 5 bytes before the end of the file\n",
    "        file.seek(-5, 2)  # 2 is for SEEK_END, moves relative to the end of the file\n",
    "        print(\"\\nReading from 5 bytes before the end of the file:\")\n",
    "        print(file.read())  # Read the last 5 bytes\n",
    "\n",
    "        # Move the file pointer to the 10th byte from the current position\n",
    "        file.seek(10, 1)  # 1 is for SEEK_CUR, moves relative to the current file position\n",
    "        print(\"\\nReading after moving 10 bytes forward from the current position:\")\n",
    "        print(file.read())  # Read from the new position\n",
    "\n",
    "# Example usage:\n",
    "demonstrate_seek('example.txt')\n"
   ]
  },
  {
   "cell_type": "code",
   "execution_count": null,
   "id": "6a397ff4",
   "metadata": {},
   "outputs": [],
   "source": [
    "#14. Create a Python function to return the file descriptor (integer number) of a file using the fileno() method\n",
    "def get_file_descriptor(file_path):\n",
    "    # Open the file in read mode\n",
    "    with open(file_path, 'r') as file:\n",
    "        # Get the file descriptor using the fileno() method\n",
    "        file_descriptor = file.fileno()\n",
    "        print(f\"The file descriptor of '{file_path}' is: {file_descriptor}\")\n",
    "        return file_descriptor\n",
    "\n",
    "# Example usage:\n",
    "fd = get_file_descriptor('example.txt')\n"
   ]
  },
  {
   "cell_type": "code",
   "execution_count": null,
   "id": "29f0c93a",
   "metadata": {},
   "outputs": [],
   "source": [
    "#15.Write a Python function to return the current position of the file's object using the tell() method\n",
    "def get_current_file_position(file_path):\n",
    "    with open(file_path, 'r') as file:\n",
    "        # Read some content to move the file pointer\n",
    "        file.read(10)  # Read the first 10 characters\n",
    "        \n",
    "        # Get the current position using the tell() method\n",
    "        current_position = file.tell()\n",
    "        print(f\"The current position of the file pointer in '{file_path}' is: {current_position}\")\n",
    "        return current_position\n",
    "\n",
    "# Example usage:\n",
    "position = get_current_file_position('example.txt')\n"
   ]
  },
  {
   "cell_type": "code",
   "execution_count": null,
   "id": "5a0eaabe",
   "metadata": {},
   "outputs": [],
   "source": [
    "#16. Create a Python program that logs a message to a file using the logging module\n",
    "import logging\n",
    "\n",
    "def setup_logging(log_file):\n",
    "    # Configure logging settings\n",
    "    logging.basicConfig(\n",
    "        filename=log_file,  # Log messages to this file\n",
    "        level=logging.INFO,  # Set the logging level to INFO\n",
    "        format='%(asctime)s - %(levelname)s - %(message)s',  # Log message format\n",
    "        datefmt='%Y-%m-%d %H:%M:%S'  # Date and time format\n",
    "    )\n",
    "\n",
    "def log_message(message):\n",
    "    logging.info(message)\n",
    "\n",
    "# Example usage:\n",
    "if __name__ == \"__main__\":\n",
    "    log_file = 'application.log'\n",
    "    setup_logging(log_file)  # Set up logging to log to 'application.log'\n",
    "    \n",
    "    # Log a message\n",
    "    log_message(\"This is an info message logged to the file.\")\n",
    "    \n",
    "    # Log another message\n",
    "    log_message(\"Logging another message for demonstration.\")\n",
    "    \n",
    "    print(f\"Messages have been logged to {log_file}.\")\n"
   ]
  },
  {
   "cell_type": "code",
   "execution_count": 6,
   "id": "c612dcea",
   "metadata": {},
   "outputs": [],
   "source": [
    "#17. Explain the importance of logging levels in Python's logging module\n"
   ]
  },
  {
   "cell_type": "markdown",
   "id": "6e5147e3",
   "metadata": {},
   "source": [
    "Importance of Logging Levels\n",
    "Categorization of Messages: Logging levels provide a way to categorize log messages based on their severity. This categorization helps in identifying the nature and urgency of the messages. For example, error messages can be flagged differently from informational messages, allowing for better decision-making.\n",
    "\n",
    "Filtering of Logs: By using different logging levels, you can filter the output to show only messages that are of interest. For example, during development, you might want to see all debug and info messages, but in a production environment, you might only want to log warnings, errors, and critical issues to avoid log clutter.\n",
    "\n",
    "Efficient Monitoring: Logging levels help in efficient monitoring and alerting. Monitoring systems can be set up to trigger alerts based on certain logging levels (e.g., errors and critical messages), which allows for quick response to serious issues.\n",
    "\n",
    "Performance Optimization: By selectively logging messages based on their level, you can optimize the performance of your application. Logging too many low-level details in a production environment can be expensive in terms of storage and processing time, so filtering by level can help reduce unnecessary overhead.\n",
    "\n",
    "Granular Control: Logging levels provide developers with granular control over what gets logged. This allows for different levels of verbosity in different stages of development or different parts of the application. For instance, a detailed trace can be enabled for debugging specific modules while keeping the rest of the application at a higher logging level."
   ]
  },
  {
   "cell_type": "code",
   "execution_count": null,
   "id": "1b504c4a",
   "metadata": {},
   "outputs": [],
   "source": [
    "#18. Create a Python program that uses the debugger to find the value of a variable inside a loop\n",
    "import pdb\n",
    "\n",
    "def calculate_squares(limit):\n",
    "    for i in range(limit):\n",
    "        # Set a breakpoint to inspect the value of 'i' during each iteration\n",
    "        pdb.set_trace()\n",
    "        square = i ** 2\n",
    "        print(f\"Number: {i}, Square: {square}\")\n",
    "\n",
    "if __name__ == \"__main__\":\n",
    "    limit = 5\n",
    "    calculate_squares(limit)\n"
   ]
  },
  {
   "cell_type": "code",
   "execution_count": null,
   "id": "c9fe8847",
   "metadata": {},
   "outputs": [],
   "source": [
    "#19.Create a Python program that demonstrates setting breakpoints and inspecting variables using the debugger\n",
    "import pdb\n",
    "\n",
    "def factorial(n):\n",
    "    result = 1\n",
    "    for i in range(1, n + 1):\n",
    "        # Set a breakpoint to inspect the values of 'i' and 'result'\n",
    "        pdb.set_trace()\n",
    "        result *= i\n",
    "    return result\n",
    "\n",
    "if __name__ == \"__main__\":\n",
    "    number = 5\n",
    "    print(f\"The factorial of {number} is {factorial(number)}\")\n"
   ]
  },
  {
   "cell_type": "code",
   "execution_count": null,
   "id": "e833a86b",
   "metadata": {},
   "outputs": [
    {
     "name": "stdout",
     "output_type": "stream",
     "text": [
      "> \u001b[1;32mc:\\users\\malkeet singh\\appdata\\local\\temp\\ipykernel_19536\\976024398.py\u001b[0m(7)\u001b[0;36mfibonacci\u001b[1;34m()\u001b[0m\n",
      "\n"
     ]
    }
   ],
   "source": [
    "#20. Create a Python program that uses the debugger to trace a recursive function\n",
    "import pdb\n",
    "\n",
    "def fibonacci(n):\n",
    "    # Set a breakpoint to inspect the values of 'n' during recursion\n",
    "    pdb.set_trace()\n",
    "    if n <= 1:\n",
    "        return n\n",
    "    else:\n",
    "        return fibonacci(n - 1) + fibonacci(n - 2)\n",
    "\n",
    "if __name__ == \"__main__\":\n",
    "    index = 5\n",
    "    print(f\"The Fibonacci number at index {index} is {fibonacci(index)}\")\n"
   ]
  },
  {
   "cell_type": "code",
   "execution_count": 7,
   "id": "6791d4b2",
   "metadata": {},
   "outputs": [
    {
     "name": "stdout",
     "output_type": "stream",
     "text": [
      "Error: Cannot divide by zero.\n",
      "Division could not be performed.\n"
     ]
    }
   ],
   "source": [
    "#21. Write a try-except block to handle a ZeroDivisionError\n",
    "def divide_numbers(numerator, denominator):\n",
    "    try:\n",
    "        result = numerator / denominator\n",
    "    except ZeroDivisionError:\n",
    "        print(\"Error: Cannot divide by zero.\")\n",
    "        return None\n",
    "    else:\n",
    "        return result\n",
    "\n",
    "# Example usage\n",
    "numerator = 10\n",
    "denominator = 0\n",
    "\n",
    "result = divide_numbers(numerator, denominator)\n",
    "if result is not None:\n",
    "    print(f\"The result is: {result}\")\n",
    "else:\n",
    "    print(\"Division could not be performed.\")\n"
   ]
  },
  {
   "cell_type": "code",
   "execution_count": null,
   "id": "65f5fbdd",
   "metadata": {},
   "outputs": [],
   "source": [
    "#22. Write a try-except block to handle a ZeroDivisionError\n",
    "def safe_divide(a, b):\n",
    "    try:\n",
    "        result = a / b\n",
    "    except ZeroDivisionError:\n",
    "        print(\"Error: Cannot divide by zero.\")\n",
    "        return None\n",
    "    return result\n",
    "\n",
    "# Example usage\n",
    "numerator = 10\n",
    "denominator = 0\n",
    "\n",
    "result = safe_divide(numerator, denominator)\n",
    "if result is not None:\n",
    "    print(f\"The result is: {result}\")\n",
    "else:\n",
    "    print(\"Division could not be performed.\")\n"
   ]
  },
  {
   "cell_type": "code",
   "execution_count": null,
   "id": "fb80cade",
   "metadata": {},
   "outputs": [],
   "source": [
    "#23. How does the else block work with try-except\n",
    "def divide_numbers(a, b):\n",
    "    try:\n",
    "        result = a / b\n",
    "    except ZeroDivisionError:\n",
    "        print(\"Error: Cannot divide by zero.\")\n",
    "        return None\n",
    "    else:\n",
    "        # This block runs if no exceptions are raised\n",
    "        print(\"Division successful.\")\n",
    "        return result\n",
    "    finally:\n",
    "        # This block always runs\n",
    "        print(\"Execution completed.\")\n",
    "\n",
    "# Example usage\n",
    "numerator = 10\n",
    "denominator = 2\n",
    "\n",
    "result = divide_numbers(numerator, denominator)\n",
    "if result is not None:\n",
    "    print(f\"The result is: {result}\")\n",
    "else:\n",
    "    print(\"Division could not be performed.\")\n"
   ]
  },
  {
   "cell_type": "code",
   "execution_count": null,
   "id": "28b411fa",
   "metadata": {},
   "outputs": [],
   "source": [
    "#24. What is the purpose of the finally block in exception handling\n"
   ]
  },
  {
   "cell_type": "markdown",
   "id": "46ebb6ce",
   "metadata": {},
   "source": [
    "Guaranteed Execution:\n",
    "\n",
    "Code inside the finally block is guaranteed to execute after the try block and any associated except blocks, no matter if an exception was raised or not. This ensures that essential cleanup operations are performed.\n",
    "Resource Management:\n",
    "\n",
    "The finally block is commonly used to release or clean up resources, such as closing files, releasing network connections, or disconnecting from databases. It ensures that these resources are properly released even if an error occurs during their use.\n",
    "Consistent Cleanup:\n",
    "\n",
    "It provides a way to ensure that specific cleanup or finalization tasks are executed consistently, helping to prevent resource leaks or other issues."
   ]
  },
  {
   "cell_type": "code",
   "execution_count": null,
   "id": "172695c2",
   "metadata": {},
   "outputs": [],
   "source": [
    "#25. Write a try-except-finally block to handle a ValueError.\n",
    "def convert_to_int(value):\n",
    "    \n",
    "    result = None\n",
    "    try:\n",
    "        # Attempt to convert the value to an integer\n",
    "        result = int(value)\n",
    "    except ValueError:\n",
    "        # Handle the case where conversion fails\n",
    "        print(f\"Error: The value '{value}' cannot be converted to an integer.\")\n",
    "    finally:\n",
    "        # This block will always execute\n",
    "        print(\"Conversion attempt complete.\")\n",
    "    return result\n",
    "\n",
    "# Example usage\n",
    "value = \"abc\"  # This will cause a ValueError\n",
    "converted_value = convert_to_int(value)\n",
    "if converted_value is not None:\n",
    "    print(f\"The converted integer is: {converted_value}\")\n",
    "else:\n",
    "    print(\"Conversion was not successful.\")\n"
   ]
  },
  {
   "cell_type": "code",
   "execution_count": null,
   "id": "88f3c4ee",
   "metadata": {},
   "outputs": [],
   "source": [
    "#26.How multiple except blocks work in Python\n",
    "def process_data(data):\n",
    "    try:\n",
    "        # Attempt to convert data to an integer and divide by a number\n",
    "        number = int(data)\n",
    "        result = 10 / number\n",
    "        return f\"The result is: {result}\"\n",
    "    except ValueError:\n",
    "        # Handles cases where data cannot be converted to an integer\n",
    "        return \"Error: The provided data is not a valid integer.\"\n",
    "    except ZeroDivisionError:\n",
    "        # Handles cases where division by zero occurs\n",
    "        return \"Error: Division by zero is not allowed.\"\n",
    "    except Exception as e:\n",
    "        # Handles any other exceptions that were not specifically caught\n",
    "        return f\"An unexpected error occurred: {e}\"\n",
    "\n",
    "# Example usage\n",
    "data = \"0\"  # This will cause a ZeroDivisionError\n",
    "message = process_data(data)\n",
    "print(message)\n"
   ]
  },
  {
   "cell_type": "code",
   "execution_count": null,
   "id": "f1556d1f",
   "metadata": {},
   "outputs": [],
   "source": [
    "#39.What is multiprocessing in Python\n",
    "#Multiprocessing in Python is a technique used to run multiple processes simultaneously, allowing for parallel execution of tasks. This approach is particularly useful for CPU-bound tasks, where tasks require significant computational power, as it can improve performance by utilizing multiple CPU cores."
   ]
  },
  {
   "cell_type": "code",
   "execution_count": null,
   "id": "0eee4b09",
   "metadata": {},
   "outputs": [],
   "source": [
    "#40. How is multiprocessing different from multithreading in Python?\n"
   ]
  },
  {
   "cell_type": "markdown",
   "id": "9ced8c7c",
   "metadata": {},
   "source": [
    "Key Differences\n",
    "Concurrency vs. Parallelism:\n",
    "\n",
    "    \n",
    "Multithreading: Typically used for concurrent execution of tasks within a single process. Threads share the same memory space and resources, which can lead to issues like race conditions and requires careful synchronization.\n",
    "Multiprocessing: Used for parallel execution of tasks by running multiple processes, each with its own memory space. This can achieve true parallelism and avoid the issues related to shared memory.\n",
    "Global Interpreter Lock (GIL):\n",
    "\n",
    "Multithreading: Python’s Global Interpreter Lock (GIL) limits the execution of multiple threads to one at a time in a single process. This means that threads do not truly run in parallel on multiple CPU cores, which can be a bottleneck for CPU-bound tasks.\n",
    "Multiprocessing: Each process has its own Python interpreter and memory space, so processes are not affected by the GIL. This allows multiprocessing to fully utilize multiple CPU cores for parallel execution.\n",
    "Memory and Resource Sharing:\n",
    "\n",
    "Multithreading: Threads share the same memory space, which can lead to easier data sharing but also requires careful management to avoid conflicts and ensure thread safety.\n",
    "Multiprocessing: Processes have separate memory spaces. While this avoids many of the issues of shared memory, it requires explicit mechanisms (e.g., Queue, Pipe) for inter-process communication and data sharing.\n",
    "Overhead:\n",
    "\n",
    "Multithreading: Threads are generally lighter weight compared to processes, with less overhead in terms of creation and context switching. However, because of shared memory and the GIL, they may not always provide the performance benefits expected for CPU-bound tasks.\n",
    "Multiprocessing: Processes have more overhead due to the need for separate memory space and process management. However, they are more suitable for CPU-bound tasks that require full parallelism.\n",
    "Use Cases:\n",
    "\n",
    "Multithreading: Suitable for I/O-bound tasks where the program spends time waiting for external resources (e.g., file I/O, network requests). Threads can improve responsiveness and concurrency.\n",
    "Multiprocessing: Ideal for CPU-bound tasks where you need to perform intensive computations that can benefit from parallel execution. It is effective for tasks that can be divided into independent chunks."
   ]
  },
  {
   "cell_type": "code",
   "execution_count": null,
   "id": "b1c7ffd8",
   "metadata": {},
   "outputs": [],
   "source": [
    "#41. Create a process using the multiprocessing module in Python\n",
    "import multiprocessing\n",
    "import time\n",
    "\n",
    "def worker(num):\n",
    "    \"\"\"Function to be executed in a separate process.\"\"\"\n",
    "    print(f\"Process {num} starting.\")\n",
    "    time.sleep(2)  # Simulate a time-consuming task\n",
    "    print(f\"Process {num} finished.\")\n",
    "\n",
    "if __name__ == '__main__':\n",
    "    # Create a list to hold process objects\n",
    "    processes = []\n",
    "\n",
    "    # Create and start multiple processes\n",
    "    for i in range(4):\n",
    "        process = multiprocessing.Process(target=worker, args=(i,))\n",
    "        processes.append(process)\n",
    "        process.start()\n",
    "\n",
    "    # Wait for all processes to complete\n",
    "    for process in processes:\n",
    "        process.join()\n",
    "\n",
    "    print(\"All processes have finished.\")\n"
   ]
  },
  {
   "cell_type": "code",
   "execution_count": null,
   "id": "0d230f91",
   "metadata": {},
   "outputs": [],
   "source": [
    "#42. Explain the concept of Pool in the multiprocessing module\n"
   ]
  },
  {
   "cell_type": "markdown",
   "id": "685da0be",
   "metadata": {},
   "source": [
    "Key Concepts of Pool\n",
    "Process Pooling:\n",
    "\n",
    "A pool of worker processes is created, and you can submit tasks to this pool. The pool manages the distribution of tasks to the available worker processes.\n",
    "Task Distribution:\n",
    "\n",
    "Tasks are distributed among the worker processes in the pool. Each worker process executes the tasks concurrently, which can significantly improve performance for parallelizable tasks.\n",
    "Resource Management:\n",
    "\n",
    "The Pool class handles the creation and management of worker processes, including starting and stopping them. It also manages the task queue and ensures that processes are properly cleaned up.\n",
    "Map and Apply Methods:\n",
    "\n",
    "The Pool class provides methods like map, apply, starmap, and imap to distribute tasks among workers and collect results. These methods simplify the process of parallelizing operations and gathering results."
   ]
  },
  {
   "cell_type": "code",
   "execution_count": null,
   "id": "e428cde7",
   "metadata": {},
   "outputs": [],
   "source": [
    "#43. Explain inter-process communication in multiprocessing.\n"
   ]
  },
  {
   "cell_type": "markdown",
   "id": "1b59495d",
   "metadata": {},
   "source": [
    "Purpose:\n",
    "\n",
    "Allows different processes to communicate and exchange data with each other.\n",
    "\n",
    "Queues:\n",
    "\n",
    "FIFO (First-In-First-Out) data structure.\n",
    "Used for message passing or task distribution.\n",
    "Provides thread-safe operations.\n",
    "\n",
    "Pipes:\n",
    "\n",
    "Two-way communication channel.\n",
    "Creates a pair of connection objects.\n",
    "Data written to one end can be read from the other.\n",
    "\n",
    "Shared Memory:\n",
    "\n",
    "Allows multiple processes to access the same memory space.\n",
    "Suitable for sharing simple data types and avoiding data copying.\n",
    "\n",
    "Manager Objects:\n",
    "\n",
    "Facilitates sharing of complex data structures (e.g., lists, dictionaries).\n",
    "Managed by a manager process that controls access to shared objects.\n",
    "\n",
    "Resource Management:\n",
    "\n",
    "Ensures proper synchronization and prevents conflicts when multiple processes access shared resources."
   ]
  },
  {
   "cell_type": "code",
   "execution_count": null,
   "id": "11b9be7c",
   "metadata": {},
   "outputs": [],
   "source": []
  }
 ],
 "metadata": {
  "kernelspec": {
   "display_name": "Python 3 (ipykernel)",
   "language": "python",
   "name": "python3"
  },
  "language_info": {
   "codemirror_mode": {
    "name": "ipython",
    "version": 3
   },
   "file_extension": ".py",
   "mimetype": "text/x-python",
   "name": "python",
   "nbconvert_exporter": "python",
   "pygments_lexer": "ipython3",
   "version": "3.11.3"
  }
 },
 "nbformat": 4,
 "nbformat_minor": 5
}
